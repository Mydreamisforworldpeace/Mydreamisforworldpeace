{
 "cells": [
  {
   "cell_type": "code",
   "execution_count": 13,
   "id": "4ec88bcc",
   "metadata": {},
   "outputs": [
    {
     "name": "stdout",
     "output_type": "stream",
     "text": [
      "迭代次数 1 选中的误分类点： [3 3] alpha： [1. 0. 0.] b： 1\n",
      "迭代次数 2 选中的误分类点： [1 1] alpha： [1. 0. 1.] b： 0\n",
      "迭代次数 3 选中的误分类点： [1 1] alpha： [1. 0. 2.] b： -1\n",
      "迭代次数 4 选中的误分类点： [1 1] alpha： [1. 0. 3.] b： -2\n",
      "迭代次数 5 选中的误分类点： [3 3] alpha： [2. 0. 3.] b： -1\n",
      "迭代次数 6 选中的误分类点： [1 1] alpha： [2. 0. 4.] b： -2\n",
      "迭代次数 7 选中的误分类点： [1 1] alpha： [2. 0. 5.] b： -3\n",
      "迭代完成\n",
      "[1. 1.] -3\n"
     ]
    },
    {
     "data": {
      "text/plain": [
       "(0.0, 5.0)"
      ]
     },
     "execution_count": 13,
     "metadata": {},
     "output_type": "execute_result"
    },
    {
     "data": {
      "image/png": "[encoded data removed]",
      "text/plain": [
       "<Figure size 640x480 with 1 Axes>"
      ]
     },
     "metadata": {},
     "output_type": "display_data"
    }
   ],
   "source": [
    "#导入模块\n",
    "import numpy as np\n",
    "import matplotlib.pyplot as plt\n",
    "\n",
    "#定义一个模型类\n",
    "class preceptron_dual:\n",
    "    def __init__(self,alpha,b,learning_rate,X_train,Y_train):\n",
    "        self.alpha = alpha\n",
    "        self.w = 0\n",
    "        self.b = b\n",
    "        self.learning_rate = learning_rate\n",
    "        self.X_train = X_train\n",
    "        self.Y_train = Y_train\n",
    "    \n",
    "    #迭代\n",
    "    def iteration(self):\n",
    "        sign = False \n",
    "        iteration_count = 0#迭代次数\n",
    "        while not sign: #sign为False时保持循环，sign为Ture时停止循环\n",
    "            wrong_count = 0\n",
    "            for i in range(len(self.Y_train)):\n",
    "                Sum = 0\n",
    "                for j in range(len(self.Y_train)):\n",
    "                    Sum += self.alpha[j]*self.Y_train[j]*np.dot(self.X_train[i],self.X_train[j])\n",
    "                if self.Y_train[i]*(Sum+self.b) <= 0:\n",
    "                    self.alpha[i] = self.alpha[i] + self.learning_rate \n",
    "                    self.b = self.b + self.learning_rate*self.Y_train[i]\n",
    "                    wrong_count += 1\n",
    "                    iteration_count += 1\n",
    "                    print('迭代次数',iteration_count,'选中的误分类点：',self.X_train[i],'alpha：',self.alpha,'b：',self.b) #显示迭代过程\n",
    "            if wrong_count == 0:\n",
    "                sign = True\n",
    "        for i in range(len(self.Y_train)):\n",
    "            self.w += self.alpha[i]*self.Y_train[i]*self.X_train[i]\n",
    "        print('迭代完成')\n",
    "\n",
    "\n",
    "#导入数据\n",
    "data = np.array([[3,3,1],[4,3,1],[1,1,-1]])\n",
    "X_train = data[:,[0,1]]\n",
    "Y_train = data[:,2]\n",
    "#初始化 (alpha和b的初值都取为0,步长取为1)\n",
    "alpha = np.zeros(len(Y_train))\n",
    "b = 0\n",
    "learning_rate = 1\n",
    "\n",
    "\n",
    "#使用模型\n",
    "pd = preceptron_dual(alpha,b,learning_rate,X_train,Y_train) \n",
    "pd.iteration()\n",
    "\n",
    "\n",
    "#迭代完的参数\n",
    "print(pd.w,pd.b)\n",
    "\n",
    "\n",
    "#作图\n",
    "x_points = np.linspace(0, 4.5, 10)\n",
    "y_ = -(pd.w[0] * x_points + pd.b) / pd.w[1]\n",
    "plt.plot(x_points, y_)\n",
    "\n",
    "plt.plot(X_train[0:2,0], X_train[0:2,1],'o',color='blue', label='1')\n",
    "plt.plot(X_train[2,0], X_train[2,1], 'o' ,color='orange', label='-1')\n",
    "plt.xlabel('X_1')\n",
    "plt.ylabel('X_2')\n",
    "plt.legend()\n",
    "\n",
    "plt.ylim(0,5)\n",
    "plt.xlim(0,5)"
   ]
  },
  {
   "cell_type": "code",
   "execution_count": null,
   "id": "4b75c862",
   "metadata": {},
   "outputs": [],
   "source": []
  }
 ],
 "metadata": {
  "kernelspec": {
   "display_name": "Python 3 (ipykernel)",
   "language": "python",
   "name": "python3"
  },
  "language_info": {
   "codemirror_mode": {
    "name": "ipython",
    "version": 3
   },
   "file_extension": ".py",
   "mimetype": "text/x-python",
   "name": "python",
   "nbconvert_exporter": "python",
   "pygments_lexer": "ipython3",
   "version": "3.10.5"
  }
 },
 "nbformat": 4,
 "nbformat_minor": 5
}
